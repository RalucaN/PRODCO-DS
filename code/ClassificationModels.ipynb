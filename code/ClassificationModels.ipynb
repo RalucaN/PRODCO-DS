{
 "cells": [
  {
   "cell_type": "code",
   "execution_count": null,
   "id": "1b136ecb",
   "metadata": {},
   "outputs": [],
   "source": []
  },
  {
   "cell_type": "code",
   "execution_count": 96,
   "id": "a6f1868a",
   "metadata": {},
   "outputs": [],
   "source": [
    "import numpy as np\n",
    "import pandas as pd\n",
    "\n",
    "from sklearn.feature_selection import VarianceThreshold, mutual_info_classif, SelectKBest, chi2, f_regression, RFE, SequentialFeatureSelector\n",
    "from sklearn.linear_model import LogisticRegression, LinearRegression, Lasso, ElasticNet, ElasticNetCV\n",
    "from sklearn.model_selection import train_test_split\n",
    "from sklearn.preprocessing import MinMaxScaler, StandardScaler, OneHotEncoder, OrdinalEncoder, LabelEncoder\n",
    "from sklearn.ensemble import RandomForestRegressor"
   ]
  },
  {
   "cell_type": "code",
   "execution_count": 11,
   "id": "94befe8d",
   "metadata": {},
   "outputs": [
    {
     "data": {
      "text/html": [
       "<div>\n",
       "<style scoped>\n",
       "    .dataframe tbody tr th:only-of-type {\n",
       "        vertical-align: middle;\n",
       "    }\n",
       "\n",
       "    .dataframe tbody tr th {\n",
       "        vertical-align: top;\n",
       "    }\n",
       "\n",
       "    .dataframe thead th {\n",
       "        text-align: right;\n",
       "    }\n",
       "</style>\n",
       "<table border=\"1\" class=\"dataframe\">\n",
       "  <thead>\n",
       "    <tr style=\"text-align: right;\">\n",
       "      <th></th>\n",
       "      <th>Date</th>\n",
       "      <th>Zone1Position</th>\n",
       "      <th>Zone2Position</th>\n",
       "      <th>Zone3Position</th>\n",
       "      <th>SKU</th>\n",
       "      <th>Zone1_Row_Num</th>\n",
       "      <th>Zone1_Col_Num</th>\n",
       "      <th>Zone2_Row_Num</th>\n",
       "      <th>Zone2_Col_Num</th>\n",
       "      <th>Zone3_Row_Num</th>\n",
       "      <th>...</th>\n",
       "      <th>Zone2_Humidity_Max</th>\n",
       "      <th>Zone2_Humidity_Range</th>\n",
       "      <th>Zone3_Humidity_Avg</th>\n",
       "      <th>Zone3_Humidity_Min</th>\n",
       "      <th>Zone3_Humidity_Max</th>\n",
       "      <th>Zone3_Humidity_Range</th>\n",
       "      <th>Block_Num</th>\n",
       "      <th>Block_Position</th>\n",
       "      <th>Block_Orientation</th>\n",
       "      <th>Result_Type</th>\n",
       "    </tr>\n",
       "  </thead>\n",
       "  <tbody>\n",
       "    <tr>\n",
       "      <th>0</th>\n",
       "      <td>09/01/2020</td>\n",
       "      <td>3.0</td>\n",
       "      <td>2.0</td>\n",
       "      <td>3.0</td>\n",
       "      <td>A001</td>\n",
       "      <td>1.0</td>\n",
       "      <td>3.0</td>\n",
       "      <td>1.0</td>\n",
       "      <td>2.0</td>\n",
       "      <td>1.0</td>\n",
       "      <td>...</td>\n",
       "      <td>61.80</td>\n",
       "      <td>10.0</td>\n",
       "      <td>39.19</td>\n",
       "      <td>33.19</td>\n",
       "      <td>45.19</td>\n",
       "      <td>12.0</td>\n",
       "      <td>1000.0</td>\n",
       "      <td>1.0</td>\n",
       "      <td>1</td>\n",
       "      <td>Defect_1</td>\n",
       "    </tr>\n",
       "    <tr>\n",
       "      <th>1</th>\n",
       "      <td>03/12/2019</td>\n",
       "      <td>8.0</td>\n",
       "      <td>4.0</td>\n",
       "      <td>3.0</td>\n",
       "      <td>A001</td>\n",
       "      <td>2.0</td>\n",
       "      <td>4.0</td>\n",
       "      <td>2.0</td>\n",
       "      <td>2.0</td>\n",
       "      <td>1.0</td>\n",
       "      <td>...</td>\n",
       "      <td>58.12</td>\n",
       "      <td>16.0</td>\n",
       "      <td>48.50</td>\n",
       "      <td>40.50</td>\n",
       "      <td>56.50</td>\n",
       "      <td>16.0</td>\n",
       "      <td>1003.0</td>\n",
       "      <td>1.0</td>\n",
       "      <td>1</td>\n",
       "      <td>Defect_1</td>\n",
       "    </tr>\n",
       "    <tr>\n",
       "      <th>2</th>\n",
       "      <td>21/11/2019</td>\n",
       "      <td>4.0</td>\n",
       "      <td>2.0</td>\n",
       "      <td>3.0</td>\n",
       "      <td>B003</td>\n",
       "      <td>1.0</td>\n",
       "      <td>4.0</td>\n",
       "      <td>1.0</td>\n",
       "      <td>2.0</td>\n",
       "      <td>1.0</td>\n",
       "      <td>...</td>\n",
       "      <td>50.97</td>\n",
       "      <td>10.0</td>\n",
       "      <td>52.20</td>\n",
       "      <td>46.20</td>\n",
       "      <td>58.20</td>\n",
       "      <td>12.0</td>\n",
       "      <td>1001.0</td>\n",
       "      <td>4.0</td>\n",
       "      <td>1</td>\n",
       "      <td>PASS</td>\n",
       "    </tr>\n",
       "    <tr>\n",
       "      <th>3</th>\n",
       "      <td>22/11/2019</td>\n",
       "      <td>6.0</td>\n",
       "      <td>3.0</td>\n",
       "      <td>1.0</td>\n",
       "      <td>B003</td>\n",
       "      <td>2.0</td>\n",
       "      <td>2.0</td>\n",
       "      <td>2.0</td>\n",
       "      <td>1.0</td>\n",
       "      <td>1.0</td>\n",
       "      <td>...</td>\n",
       "      <td>59.13</td>\n",
       "      <td>4.0</td>\n",
       "      <td>39.29</td>\n",
       "      <td>31.29</td>\n",
       "      <td>47.29</td>\n",
       "      <td>16.0</td>\n",
       "      <td>1003.0</td>\n",
       "      <td>2.0</td>\n",
       "      <td>1</td>\n",
       "      <td>PASS</td>\n",
       "    </tr>\n",
       "    <tr>\n",
       "      <th>4</th>\n",
       "      <td>23/12/2019</td>\n",
       "      <td>3.0</td>\n",
       "      <td>2.0</td>\n",
       "      <td>3.0</td>\n",
       "      <td>B003</td>\n",
       "      <td>1.0</td>\n",
       "      <td>3.0</td>\n",
       "      <td>1.0</td>\n",
       "      <td>2.0</td>\n",
       "      <td>1.0</td>\n",
       "      <td>...</td>\n",
       "      <td>65.80</td>\n",
       "      <td>18.0</td>\n",
       "      <td>45.37</td>\n",
       "      <td>42.37</td>\n",
       "      <td>48.37</td>\n",
       "      <td>6.0</td>\n",
       "      <td>1002.0</td>\n",
       "      <td>1.0</td>\n",
       "      <td>1</td>\n",
       "      <td>PASS</td>\n",
       "    </tr>\n",
       "  </tbody>\n",
       "</table>\n",
       "<p>5 rows × 52 columns</p>\n",
       "</div>"
      ],
      "text/plain": [
       "         Date  Zone1Position  Zone2Position  Zone3Position   SKU  \\\n",
       "0  09/01/2020            3.0            2.0            3.0  A001   \n",
       "1  03/12/2019            8.0            4.0            3.0  A001   \n",
       "2  21/11/2019            4.0            2.0            3.0  B003   \n",
       "3  22/11/2019            6.0            3.0            1.0  B003   \n",
       "4  23/12/2019            3.0            2.0            3.0  B003   \n",
       "\n",
       "   Zone1_Row_Num  Zone1_Col_Num  Zone2_Row_Num  Zone2_Col_Num  Zone3_Row_Num  \\\n",
       "0            1.0            3.0            1.0            2.0            1.0   \n",
       "1            2.0            4.0            2.0            2.0            1.0   \n",
       "2            1.0            4.0            1.0            2.0            1.0   \n",
       "3            2.0            2.0            2.0            1.0            1.0   \n",
       "4            1.0            3.0            1.0            2.0            1.0   \n",
       "\n",
       "   ...  Zone2_Humidity_Max  Zone2_Humidity_Range  Zone3_Humidity_Avg  \\\n",
       "0  ...               61.80                  10.0               39.19   \n",
       "1  ...               58.12                  16.0               48.50   \n",
       "2  ...               50.97                  10.0               52.20   \n",
       "3  ...               59.13                   4.0               39.29   \n",
       "4  ...               65.80                  18.0               45.37   \n",
       "\n",
       "  Zone3_Humidity_Min Zone3_Humidity_Max  Zone3_Humidity_Range  Block_Num  \\\n",
       "0              33.19              45.19                  12.0     1000.0   \n",
       "1              40.50              56.50                  16.0     1003.0   \n",
       "2              46.20              58.20                  12.0     1001.0   \n",
       "3              31.29              47.29                  16.0     1003.0   \n",
       "4              42.37              48.37                   6.0     1002.0   \n",
       "\n",
       "   Block_Position  Block_Orientation  Result_Type  \n",
       "0             1.0                  1     Defect_1  \n",
       "1             1.0                  1     Defect_1  \n",
       "2             4.0                  1         PASS  \n",
       "3             2.0                  1         PASS  \n",
       "4             1.0                  1         PASS  \n",
       "\n",
       "[5 rows x 52 columns]"
      ]
     },
     "execution_count": 11,
     "metadata": {},
     "output_type": "execute_result"
    }
   ],
   "source": [
    "file='cleaned_data.csv'\n",
    "data=pd.read_csv(file)\n",
    "data.head()"
   ]
  },
  {
   "cell_type": "code",
   "execution_count": 18,
   "id": "135f3c8a",
   "metadata": {},
   "outputs": [],
   "source": [
    "data[['Zone1Position','Zone2Position','Zone3Position','Zone1_Row_Num','Zone1_Col_Num',\n",
    "      'Zone2_Row_Num', 'Zone2_Col_Num','Zone3_Row_Num', 'Zone3_Col_Num','Zone1_Left_Block_Bin',\n",
    "      'Zone1_Right_Block_Bin','Block_Num',\n",
    "      'Block_Position']] =data[['Zone1Position','Zone2Position','Zone3Position','Zone1_Row_Num',\n",
    "                                'Zone1_Col_Num','Zone2_Row_Num', 'Zone2_Col_Num','Zone3_Row_Num', \n",
    "                                'Zone3_Col_Num','Zone1_Left_Block_Bin','Zone1_Right_Block_Bin',\n",
    "                                'Block_Num','Block_Position']].astype(int)\n"
   ]
  },
  {
   "cell_type": "code",
   "execution_count": 34,
   "id": "80c5619e",
   "metadata": {},
   "outputs": [
    {
     "name": "stdout",
     "output_type": "stream",
     "text": [
      "Shape of the training set: (44904, 51), (44904,)\n",
      "Shape of the validation set: (14968, 51), (14968,)\n",
      "Shape of the test set: (14968, 51), (14968,)\n"
     ]
    }
   ],
   "source": [
    "#Defining input features and target\n",
    "\n",
    "X = data.drop(['Result_Type'], axis=1)\n",
    "y = data['Result_Type']\n",
    "\n",
    "#splitting data into trained and test\n",
    "X_train, X_test, y_train, y_test = train_test_split(X, y, test_size=0.2, random_state=42)\n",
    "\n",
    "#splitting trained into trained and validation\n",
    "X_train, X_val, y_train, y_val = train_test_split(X_train, y_train, test_size=0.25, random_state=42) \n",
    "\n",
    "#exploring shape of data\n",
    "print(f\"Shape of the training set: {X_train.shape}, {y_train.shape}\")\n",
    "print(f\"Shape of the validation set: {X_val.shape}, {y_val.shape}\")\n",
    "print(f\"Shape of the test set: {X_test.shape}, {y_test.shape}\")"
   ]
  },
  {
   "cell_type": "code",
   "execution_count": 43,
   "id": "7529516a",
   "metadata": {},
   "outputs": [],
   "source": [
    "cat_features=['SKU','Zone1_Area', 'Zone3_Area']\n",
    "date_feature='Date'\n",
    "num_features=[col for col in X.columns.to_list() if col not in cat_features+[date_feature]]"
   ]
  },
  {
   "cell_type": "markdown",
   "id": "d42bca7b",
   "metadata": {},
   "source": [
    "### 1. Feature engineering"
   ]
  },
  {
   "cell_type": "code",
   "execution_count": 130,
   "id": "3121463b",
   "metadata": {},
   "outputs": [],
   "source": [
    "# Rescaling numerical and encoding categorical and date features\n",
    "min_max_scaler = MinMaxScaler()\n",
    "\n",
    "X_train_scaled = min_max_scaler.fit_transform(X_train[num_features])\n",
    "X_val_scaled = min_max_scaler.transform(X_val[num_features])\n",
    "X_test_scaled = min_max_scaler.transform(X_test[num_features])\n",
    "\n",
    "one_hot_encoder=OneHotEncoder()\n",
    "X_train_cat=one_hot_encoder.fit_transform(X_train[cat_features])\n",
    "X_val_cat = one_hot_encoder.transform(X_val[cat_features])\n",
    "X_test_cat = one_hot_encoder.transform(X_test[cat_features])\n",
    "\n",
    "ordinal_encoder=OrdinalEncoder()\n",
    "X_train_date = ordinal_encoder.fit_transform(X_train[[date_feature]])\n",
    "X_val_date = ordinal_encoder.transform(X_val[[date_feature]])\n",
    "X_test_date = ordinal_encoder.transform(X_test[[date_feature]])\n",
    "\n",
    "cat_feature_names = one_hot_encoder.get_feature_names_out(cat_features)\n",
    "\n",
    "X_train_final=np.concatenate((X_train_scaled,X_train_cat.toarray(),X_train_date), axis=1)\n",
    "X_val_final = np.concatenate((X_val_scaled, X_val_cat.toarray(), X_val_date), axis=1)\n",
    "X_test_final = np.concatenate((X_test_scaled, X_test_cat.toarray(), X_test_date), axis=1)\n",
    "\n",
    "\n",
    "encoder = LabelEncoder()\n",
    "y_train_encoded = encoder.fit_transform(y_train)\n",
    "y_val_encoded = encoder.fit_transform(y_val)\n",
    "y_test_encoded = encoder.fit_transform(y_test)\n"
   ]
  },
  {
   "cell_type": "code",
   "execution_count": 131,
   "id": "dc91b15a",
   "metadata": {},
   "outputs": [],
   "source": [
    "all_features=np.concatenate((num_features, cat_feature_names,[date_feature]))"
   ]
  },
  {
   "cell_type": "markdown",
   "id": "246670f9",
   "metadata": {},
   "source": [
    "#### a. Filter-based methods"
   ]
  },
  {
   "cell_type": "code",
   "execution_count": 109,
   "id": "44000be4",
   "metadata": {},
   "outputs": [
    {
     "name": "stdout",
     "output_type": "stream",
     "text": [
      "Number of selected features: 24\n",
      "Names of selected features: ['Zone1Position' 'Zone2Position' 'Zone3Position' 'Zone1_Row_Num'\n",
      " 'Zone1_Col_Num' 'Zone2_Row_Num' 'Zone2_Col_Num' 'Zone3_Row_Num'\n",
      " 'Zone3_Col_Num' 'Zone1_Left_Block_Bin' 'Zone1_Right_Block_Bin'\n",
      " 'Zone2_Temp_Range' 'Block_Num' 'Block_Position' 'SKU_A001' 'SKU_C005'\n",
      " 'SKU_Z009' 'Zone1_Area_Bottom Left' 'Zone1_Area_Bottom Right'\n",
      " 'Zone1_Area_Top Left' 'Zone1_Area_Top Right' 'Zone3_Area_Bottom Right'\n",
      " 'Zone3_Area_Top Left' 'Date']\n"
     ]
    }
   ],
   "source": [
    "# Using VarianceThreshold class to identify features with low variance\n",
    "var_thres = VarianceThreshold(threshold=0.1)\n",
    "X_train_var = var_thres.fit_transform(X_train_final)\n",
    "X_val_var = var_thres.transform(X_val_final)\n",
    "X_test_var = var_thres.transform(X_test_final)\n",
    "\n",
    "selected_features = all_features[var_thres.get_support()]\n",
    "\n",
    "print(f\"Number of selected features: {len(selected_features)}\")\n",
    "print(f\"Names of selected features: {selected_features}\")"
   ]
  },
  {
   "attachments": {
    "image.png": {
     "image/png": "[encoded data removed]"
    }
   },
   "cell_type": "markdown",
   "id": "3c9c25ca",
   "metadata": {},
   "source": [
    "**Mutual information score**\n",
    "- how much information one variable contains regarding another = A higher mutual information score means that the variables are more related and informative, and a lower mutual information score means that the variables are less related and informative.\n",
    "- based on the concept of entropy  or how uncertain/unpredictable a variable is.<br>\n",
    "    I(X;Y)=H(X)+H(Y)−H(X,Y)<br>\n",
    "    where I(X;Y) is the mutual information between variables X and Y, H(X) is the entropy of variable X, H(Y) is the entropy of variable Y, and H(X,Y) is the joint entropy of variables X and Y<br>\n",
    "![image.png](attachment:image.png)"
   ]
  },
  {
   "cell_type": "code",
   "execution_count": 110,
   "id": "d3061d6b",
   "metadata": {},
   "outputs": [
    {
     "name": "stdout",
     "output_type": "stream",
     "text": [
      "Mutual information scores and names of the sorted features:\n",
      "0.151 - Zone1Position\n",
      "0.146 - Zone2Position\n",
      "0.088 - Zone2_Col_Num\n",
      "0.087 - Zone1_Right_Block_Bin\n",
      "0.086 - Zone1_Col_Num\n",
      "0.084 - Zone1_Left_Block_Bin\n",
      "0.078 - Zone3Position\n",
      "0.067 - Zone3_Col_Num\n",
      "0.061 - Zone1_Area_Bottom Left\n",
      "0.057 - Zone1_Row_Num\n",
      "0.056 - Zone2_Row_Num\n",
      "0.010 - Zone3_Row_Num\n",
      "0.002 - SKU_C005\n",
      "0.001 - Date\n",
      "0.001 - Zone2_Temp_Range\n",
      "0.001 - Zone3_Area_Top Left\n",
      "0.000 - Zone3_Area_Bottom Right\n",
      "0.000 - Zone1_Area_Top Right\n",
      "0.000 - Zone1_Area_Top Left\n",
      "0.000 - Zone1_Area_Bottom Right\n",
      "0.000 - SKU_Z009\n",
      "0.000 - SKU_A001\n",
      "0.000 - Block_Position\n",
      "0.000 - Block_Num\n"
     ]
    }
   ],
   "source": [
    "mutual_info = mutual_info_classif(X_train_final, y_train_encoded)\n",
    "sorted_features = sorted(zip(mutual_info, selected_features), reverse=True)\n",
    "\n",
    "keep_mis=[]\n",
    "print(f\"Mutual information scores and names of the sorted features:\")\n",
    "for score, name in sorted_features:\n",
    "    print(f\"{score:.3f} - {name}\")\n",
    "    if score>=0.05: # keep everything over 0.05\n",
    "        keep_mis.append(name)"
   ]
  },
  {
   "cell_type": "markdown",
   "id": "bc2bf1ae",
   "metadata": {},
   "source": [
    "**Chi-squared test**"
   ]
  },
  {
   "cell_type": "code",
   "execution_count": 111,
   "id": "efa51d22",
   "metadata": {},
   "outputs": [
    {
     "name": "stdout",
     "output_type": "stream",
     "text": [
      "Features selected by chi-squared test: ['Zone1Position' 'Zone2Position' 'Zone1_Row_Num' 'Zone1_Col_Num'\n",
      " 'Zone2_Row_Num' 'Zone2_Col_Num' 'Zone3_Col_Num' 'Zone1_Left_Block_Bin'\n",
      " 'Zone1_Right_Block_Bin' 'SKU_A001' 'SKU_C005' 'Zone1_Area_Bottom Right'\n",
      " 'Zone1_Area_Top Left' 'Zone1_Area_Top Right' 'Zone3_Area_Bottom Right'\n",
      " 'Zone3_Area_Top Left']\n"
     ]
    }
   ],
   "source": [
    "skb_chi2 = SelectKBest(chi2, k=16)\n",
    "X_skb_chi2 = skb_chi2.fit_transform(X_train_final, y_train_encoded)\n",
    "chi_keep=all_features[skb_chi2.get_support()]\n",
    "print('Features selected by chi-squared test:', chi_keep)"
   ]
  },
  {
   "cell_type": "markdown",
   "id": "23b0671d",
   "metadata": {},
   "source": [
    "**ANOVA F-test**"
   ]
  },
  {
   "cell_type": "code",
   "execution_count": 112,
   "id": "aca1cf04",
   "metadata": {},
   "outputs": [
    {
     "name": "stdout",
     "output_type": "stream",
     "text": [
      "Features selected by ANOVA F-test: ['Zone1Position' 'Zone2Position' 'Zone1_Row_Num' 'Zone1_Col_Num'\n",
      " 'Zone2_Row_Num' 'Zone2_Col_Num' 'Zone3_Col_Num' 'Zone1_Left_Block_Bin'\n",
      " 'Zone1_Right_Block_Bin' 'Zone1_In_Zone3_Out_Dur' 'Zone3_Temp_Min'\n",
      " 'Zone3_Temp_Range' 'SKU_A001' 'Zone1_Area_Top Left'\n",
      " 'Zone3_Area_Bottom Right' 'Zone3_Area_Top Left']\n"
     ]
    }
   ],
   "source": [
    "skb_f = SelectKBest(f_regression, k=16)\n",
    "X_skb_f = skb_f.fit_transform(X_train_final, y_train_encoded)\n",
    "anova_keep=all_features[skb_f.get_support()]\n",
    "print('Features selected by ANOVA F-test:', anova_keep)"
   ]
  },
  {
   "cell_type": "markdown",
   "id": "2c818996",
   "metadata": {},
   "source": [
    "Summary: Exploring the features selected based on mutual information score, Chi-square test and ANOVA F-test"
   ]
  },
  {
   "cell_type": "code",
   "execution_count": 113,
   "id": "e2d49c7c",
   "metadata": {},
   "outputs": [],
   "source": [
    "def get_common(list1, list2, list3):\n",
    "    set1 = set(list1)\n",
    "    set2 = set(list2)\n",
    "    set3 = set(list3)\n",
    "\n",
    "    common_all = set1.intersection(set2, set3)\n",
    "    print('Values common to all three lists:', common_all)\n",
    "    print(len(common_all))\n",
    "    common_two = (set1.intersection(set2) - set3) | (set1.intersection(set3) - set2) | (set2.intersection(set3) - set1)\n",
    "    print('Values common to only two lists:', common_two)\n",
    "\n",
    "    unique_each = (set1 - set2 - set3) | (set2 - set1 - set3) | (set3 - set1 - set2)\n",
    "    print('Values unique to each list:', unique_each)\n",
    "    return common_all"
   ]
  },
  {
   "cell_type": "code",
   "execution_count": 114,
   "id": "2584ee4b",
   "metadata": {},
   "outputs": [
    {
     "name": "stdout",
     "output_type": "stream",
     "text": [
      "Values common to all three lists: {'Zone1Position', 'Zone2_Col_Num', 'Zone1_Left_Block_Bin', 'Zone2_Row_Num', 'Zone2Position', 'Zone1_Row_Num', 'Zone1_Right_Block_Bin', 'Zone3_Col_Num', 'Zone1_Col_Num'}\n",
      "9\n",
      "Values common to only two lists: {'Zone3_Area_Top Left', 'Zone3_Area_Bottom Right', 'Zone1_Area_Top Left', 'SKU_A001'}\n",
      "Values unique to each list: {'Zone3_Temp_Min', 'Zone1_Area_Top Right', 'Zone1_In_Zone3_Out_Dur', 'Zone3Position', 'Zone1_Area_Bottom Left', 'Zone3_Temp_Range', 'SKU_C005', 'Zone1_Area_Bottom Right'}\n"
     ]
    }
   ],
   "source": [
    "filter_common=get_common(keep_mis, chi_keep, anova_keep)"
   ]
  },
  {
   "cell_type": "markdown",
   "id": "6d7be2a4",
   "metadata": {},
   "source": [
    "**b. Wrapper-based method** - using search algorithm to find the optimal subset of features that maximizes the performance of the machine learning model.\n",
    "- **Forward selection**: starting with an empty set of features and adding one feature at a time that improves the performance of the model the most. It stops when no further improvement is possible or a predefined number of features is reached\n",
    "- **Backward elimination**: is similar to the Foward selection method but reversed. It starts with all the features and removes one feature at a time that degrades the performance of the model the least. It stops when no further improvement is possible or a predefined number of features is reached.\n",
    "- **Recursive feature elimination**: recursively fits the model and removes the least important features until a predefined number of features is reached. It uses the feature importances or coefficients of the model to rank the features."
   ]
  },
  {
   "cell_type": "markdown",
   "id": "4db5e5f2",
   "metadata": {},
   "source": [
    "**Forward selection method** using SequentialFeatureSelector"
   ]
  },
  {
   "cell_type": "code",
   "execution_count": 115,
   "id": "a537b141",
   "metadata": {},
   "outputs": [
    {
     "name": "stdout",
     "output_type": "stream",
     "text": [
      "Features selected by forward selection: ['Zone1_Col_Num' 'Zone3_Col_Num' 'Zone1_Out_Zone2_In_Dur'\n",
      " 'Zone1_In_Zone3_Out_Dur' 'Zone3_Temp_Avg' 'Zone3_Temp_Range'\n",
      " 'Zone1_Humidity_Min' 'Zone2_Humidity_Max' 'Zone3_Humidity_Min'\n",
      " 'Zone3_Humidity_Range' 'Block_Num' 'Block_Position' 'SKU_A001' 'SKU_C005'\n",
      " 'Zone1_Area_Top Left' 'Zone3_Area_Bottom Right']\n"
     ]
    }
   ],
   "source": [
    "estimator = LinearRegression()\n",
    "selector = SequentialFeatureSelector(estimator, n_features_to_select=16, direction='forward')\n",
    "\n",
    "selector.fit(X_train_final, y_train_encoded)\n",
    "forward_keep=all_features[selector.get_support()]\n",
    "print('Features selected by forward selection:', forward_keep)"
   ]
  },
  {
   "cell_type": "markdown",
   "id": "334d1473",
   "metadata": {},
   "source": [
    "**Backward elimination**\n",
    "- looks at scoring function that evaluates the model as a whole: p-value, AIC, BIC, or cross-validation score\n",
    "- can stop when no further improvement is possible or a predefined number of features is reached"
   ]
  },
  {
   "cell_type": "code",
   "execution_count": 116,
   "id": "50cd0434",
   "metadata": {},
   "outputs": [
    {
     "name": "stdout",
     "output_type": "stream",
     "text": [
      "Features selected by forward selection: ['Zone1Position' 'Zone3Position' 'Zone1_Row_Num' 'Zone3_Row_Num'\n",
      " 'Zone3_Col_Num' 'Zone1_Left_Block_Bin' 'Zone1_Out_Zone2_In_Dur'\n",
      " 'Zone1_In_Zone3_Out_Dur' 'Zone3_Temp_Range' 'Zone3_Humidity_Min'\n",
      " 'Zone3_Humidity_Range' 'Block_Num' 'Block_Position' 'SKU_A001' 'SKU_C005'\n",
      " 'Zone1_Area_Top Right']\n"
     ]
    }
   ],
   "source": [
    "selector = SequentialFeatureSelector(estimator, n_features_to_select=16, direction='backward')\n",
    "\n",
    "selector.fit(X_train_final, y_train_encoded)\n",
    "backward_keep=all_features[selector.get_support()]\n",
    "print('Features selected by forward selection:', backward_keep)"
   ]
  },
  {
   "cell_type": "markdown",
   "id": "f0084215",
   "metadata": {},
   "source": [
    "**Recursive feature elimination**\n",
    "- uses the feature importances or coefficients of the model to rank the features, and removes the least important feature at each iteration\n",
    "- requires the user to specify the number of features to select in advance, and stops when that number is reached"
   ]
  },
  {
   "cell_type": "code",
   "execution_count": 117,
   "id": "afb9d60a",
   "metadata": {},
   "outputs": [
    {
     "name": "stdout",
     "output_type": "stream",
     "text": [
      "Features selected by recursive feature elimination: ['Zone2Position' 'Zone3Position' 'Zone1_Row_Num' 'Zone2_Row_Num'\n",
      " 'Zone2_Col_Num' 'Zone3_Row_Num' 'Zone3_Col_Num' 'Zone1_Left_Block_Bin'\n",
      " 'Zone1_Right_Block_Bin' 'Zone1_Temp_Min' 'Zone1_Temp_Max'\n",
      " 'Zone1_Temp_Range' 'Zone1_Humidity_Min' 'Zone1_Humidity_Max'\n",
      " 'Zone1_Humidity_Range' 'Zone1_Area_Bottom Right']\n"
     ]
    }
   ],
   "source": [
    "# Select the 5 best features using linear regression as the estimator\n",
    "rfe = RFE(estimator, n_features_to_select=16)\n",
    "X_rfe = rfe.fit_transform(X_train_final, y_train_encoded)\n",
    "lm_keep=all_features[rfe.get_support()]\n",
    "print('Features selected by recursive feature elimination:', lm_keep)\n"
   ]
  },
  {
   "cell_type": "code",
   "execution_count": 118,
   "id": "2191f72a",
   "metadata": {},
   "outputs": [
    {
     "name": "stdout",
     "output_type": "stream",
     "text": [
      "Values common to all three lists: {'Zone3_Col_Num'}\n",
      "1\n",
      "Values common to only two lists: {'Zone1_Left_Block_Bin', 'Zone3_Temp_Range', 'Zone3Position', 'Zone3_Humidity_Range', 'Block_Num', 'Zone3_Row_Num', 'Zone1_Row_Num', 'Zone1_In_Zone3_Out_Dur', 'Zone1_Humidity_Min', 'Block_Position', 'Zone3_Humidity_Min', 'Zone1_Out_Zone2_In_Dur', 'SKU_A001', 'SKU_C005'}\n",
      "Values unique to each list: {'Zone1_Temp_Max', 'Zone2_Col_Num', 'Zone3_Area_Bottom Right', 'Zone1_Temp_Min', 'Zone2_Row_Num', 'Zone2Position', 'Zone1_Right_Block_Bin', 'Zone1_Temp_Range', 'Zone1_Humidity_Max', 'Zone1_Area_Bottom Right', 'Zone1Position', 'Zone3_Temp_Avg', 'Zone1_Area_Top Left', 'Zone2_Humidity_Max', 'Zone1_Area_Top Right', 'Zone1_Humidity_Range', 'Zone1_Col_Num'}\n"
     ]
    }
   ],
   "source": [
    "wrapper_common=get_common(forward_keep, backward_keep, lm_keep)"
   ]
  },
  {
   "cell_type": "markdown",
   "id": "11173332",
   "metadata": {},
   "source": [
    "**c. Embedded method** - using algorithms that have built-in feature selection mechanisms, such as regularization or tree-based methods. E.g. Lasso, Ridge, Elastic Net, and Random Forest"
   ]
  },
  {
   "cell_type": "markdown",
   "id": "c6b71d8c",
   "metadata": {},
   "source": [
    "**Lasso** - selecting features with non-zero coefficients using Lasso with alpha=0.1"
   ]
  },
  {
   "cell_type": "code",
   "execution_count": 119,
   "id": "b55af3c9",
   "metadata": {},
   "outputs": [
    {
     "name": "stdout",
     "output_type": "stream",
     "text": [
      "Features selected by Lasso: ['SKU_A001' 'Zone1_Area_Top Left']\n"
     ]
    }
   ],
   "source": [
    "lasso = Lasso(alpha=0.1)\n",
    "lasso.fit(X_train_final, y_train_encoded)\n",
    "lasso_keep=all_features[lasso.coef_ != 0]\n",
    "print('Features selected by Lasso:', lasso_keep)"
   ]
  },
  {
   "cell_type": "markdown",
   "id": "1cf093eb",
   "metadata": {},
   "source": [
    "**Elastic net** - uses a combination of L1 and L2 penalties to shrink the coefficients of the features. It can select features by setting some coefficients to zero, like lasso, and also reduce the collinearity among the features, like ridge"
   ]
  },
  {
   "cell_type": "code",
   "execution_count": 120,
   "id": "85fd915e",
   "metadata": {},
   "outputs": [
    {
     "name": "stdout",
     "output_type": "stream",
     "text": [
      "Features selected by elastic net: ['Zone2Position' 'Zone1_Row_Num' 'Zone2_Row_Num' 'Zone2_Col_Num'\n",
      " 'Zone1_Left_Block_Bin' 'Zone1_Right_Block_Bin' 'Zone3_Temp_Range'\n",
      " 'SKU_A001' 'Zone1_Area_Top Left']\n"
     ]
    }
   ],
   "source": [
    "enet = ElasticNet(alpha=0.1, l1_ratio=0.5)\n",
    "enet.fit(X_train_final, y_train_encoded)\n",
    "enet_keep=all_features[enet.coef_ != 0]\n",
    "print('Features selected by elastic net:', enet_keep)\n"
   ]
  },
  {
   "cell_type": "markdown",
   "id": "e5fd15e2",
   "metadata": {},
   "source": [
    "**Random Forest** - selecting features with importance above the mean importance"
   ]
  },
  {
   "cell_type": "code",
   "execution_count": 121,
   "id": "a6280ca3",
   "metadata": {},
   "outputs": [
    {
     "name": "stdout",
     "output_type": "stream",
     "text": [
      "Features selected by Random Forest: Index(['Zone1Position', 'Zone2Position', 'Zone3_Col_Num',\n",
      "       'Zone1_In_Zone3_Out_Dur', 'Zone3_Temp_Range', 'Zone3_Humidity_Max',\n",
      "       'Zone3_Humidity_Range', 'Block_Num', 'Block_Position', 'SKU_A001',\n",
      "       'SKU_C005', 'Zone1_Area_Top Left'],\n",
      "      dtype='object')\n"
     ]
    }
   ],
   "source": [
    "rf = RandomForestRegressor(random_state=0)\n",
    "rf.fit(X_train_final, y_train_encoded)\n",
    "feature_importances = pd.Series(rf.feature_importances_, index=all_features)\n",
    "rf_keep=feature_importances[feature_importances > feature_importances.mean()].index\n",
    "print('Features selected by Random Forest:', rf_keep)\n"
   ]
  },
  {
   "cell_type": "code",
   "execution_count": 123,
   "id": "4571cf0f",
   "metadata": {},
   "outputs": [
    {
     "name": "stdout",
     "output_type": "stream",
     "text": [
      "Values common to all three lists: {'SKU_A001', 'Zone1_Area_Top Left'}\n",
      "2\n",
      "Values common to only two lists: {'Zone3_Temp_Range', 'Zone2Position'}\n",
      "Values unique to each list: {'Zone1_Left_Block_Bin', 'Zone2_Col_Num', 'Zone1Position', 'Block_Num', 'Zone3_Humidity_Range', 'Zone2_Row_Num', 'Zone3_Humidity_Max', 'Zone1_Row_Num', 'Zone1_Right_Block_Bin', 'Zone1_In_Zone3_Out_Dur', 'Block_Position', 'SKU_C005', 'Zone3_Col_Num'}\n"
     ]
    }
   ],
   "source": [
    "embedded_common=get_common(lasso_keep, enet_keep, rf_keep)"
   ]
  },
  {
   "cell_type": "code",
   "execution_count": 133,
   "id": "77d98eda",
   "metadata": {},
   "outputs": [
    {
     "data": {
      "text/plain": [
       "['Zone1Position',\n",
       " 'Zone2_Col_Num',\n",
       " 'Zone1_Left_Block_Bin',\n",
       " 'Zone2_Row_Num',\n",
       " 'Zone2Position',\n",
       " 'Zone1_Row_Num',\n",
       " 'Zone1_Right_Block_Bin',\n",
       " 'Zone3_Col_Num',\n",
       " 'Zone1_Col_Num']"
      ]
     },
     "execution_count": 133,
     "metadata": {},
     "output_type": "execute_result"
    }
   ],
   "source": [
    "list(filter_common)"
   ]
  },
  {
   "cell_type": "code",
   "execution_count": 134,
   "id": "43fb9560",
   "metadata": {},
   "outputs": [],
   "source": [
    "X_train_model = min_max_scaler.fit_transform(X_train[list(filter_common)])\n",
    "X_val_model = min_max_scaler.transform(X_val[list(filter_common)])\n",
    "X_test_model = min_max_scaler.transform(X_test[list(filter_common)])"
   ]
  },
  {
   "cell_type": "markdown",
   "id": "97b8694e",
   "metadata": {},
   "source": [
    "### 2. Modelling"
   ]
  },
  {
   "cell_type": "code",
   "execution_count": 151,
   "id": "d60c8a8d",
   "metadata": {},
   "outputs": [],
   "source": [
    "log_reg = LogisticRegression(multi_class='multinomial', max_iter=10000)\n",
    "log_reg.fit(X_train_model, y_train)\n",
    "\n",
    "y_prob = log_reg.predict_proba(X_val_model)\n",
    "y_pred = log_reg.predict(X_val_model)"
   ]
  },
  {
   "cell_type": "code",
   "execution_count": 152,
   "id": "90781f0c",
   "metadata": {},
   "outputs": [
    {
     "name": "stdout",
     "output_type": "stream",
     "text": [
      "Accuracy: 0.719802244788883\n",
      "Precision: 0.719802244788883\n",
      "Recall: 0.719802244788883\n",
      "F1-score: 0.7198022447888829\n"
     ]
    }
   ],
   "source": [
    "from sklearn.metrics import accuracy_score, precision_score, recall_score, f1_score, confusion_matrix, roc_curve, auc\n",
    "\n",
    "accuracy = accuracy_score(y_val, y_pred)\n",
    "precision = precision_score(y_val, y_pred, average='micro')\n",
    "recall = recall_score(y_val, y_pred, average='micro')\n",
    "f1 = f1_score(y_val, y_pred, average='micro')\n",
    "\n",
    "print(f\"Accuracy: {accuracy}\")\n",
    "print(f\"Precision: {precision}\")\n",
    "print(f\"Recall: {recall}\")\n",
    "print(f\"F1-score: {f1}\")\n"
   ]
  },
  {
   "cell_type": "code",
   "execution_count": 153,
   "id": "13d24684",
   "metadata": {},
   "outputs": [
    {
     "data": {
      "image/png": "[encoded data removed]",
      "text/plain": [
       "<Figure size 800x600 with 2 Axes>"
      ]
     },
     "metadata": {},
     "output_type": "display_data"
    }
   ],
   "source": [
    "# Plot the confusion matrix\n",
    "import matplotlib.pyplot as plt\n",
    "import seaborn as sns\n",
    "\n",
    "cm = confusion_matrix(y_val, y_pred)\n",
    "\n",
    "plt.figure(figsize=(8, 6))\n",
    "sns.heatmap(cm, annot=True, fmt='d', cmap='Blues')\n",
    "plt.xlabel('Predicted')\n",
    "plt.ylabel('Actual')\n",
    "plt.title('Confusion matrix')\n",
    "plt.show()"
   ]
  },
  {
   "cell_type": "code",
   "execution_count": 161,
   "id": "25517c03",
   "metadata": {},
   "outputs": [
    {
     "data": {
      "text/plain": [
       "Result_Type\n",
       "PASS        54057\n",
       "Defect_3     6735\n",
       "Defect_1     3991\n",
       "Defect_2     3971\n",
       "Defect_4     3115\n",
       "Defect_5     2971\n",
       "Name: count, dtype: int64"
      ]
     },
     "execution_count": 161,
     "metadata": {},
     "output_type": "execute_result"
    }
   ],
   "source": [
    "y.value_counts()"
   ]
  },
  {
   "cell_type": "code",
   "execution_count": null,
   "id": "7edcc237",
   "metadata": {},
   "outputs": [],
   "source": [
    "# Import libraries\n",
    "import pandas as pd\n",
    "from sklearn.datasets import load_iris\n",
    "from sklearn.linear_model import LogisticRegression\n",
    "from sklearn.metrics import confusion_matrix\n",
    "from imblearn.over_sampling import SMOTE\n",
    "\n",
    "# Load the iris dataset\n",
    "X, y = load_iris(return_X_y=True)\n",
    "X = pd.DataFrame(X, columns=load_iris().feature_names)\n",
    "y = pd.Series(y, name='species')\n",
    "\n",
    "# Make the data imbalanced by removing some examples of class 0 and 1\n",
    "X = X[y != 2].iloc[:80]\n",
    "y = y[y != 2].iloc[:80]\n",
    "\n",
    "# Define the multinomial logistic regression model\n",
    "log_reg = LogisticRegression(multi_class='multinomial', max_iter=10000)\n",
    "\n",
    "# Fit the model to the imbalanced data\n",
    "log_reg.fit(X, y)\n",
    "\n",
    "# Make predictions with the model\n",
    "y_pred = log_reg.predict(X)\n",
    "\n",
    "# Print the confusion matrix of the model\n",
    "print('Confusion matrix of the model on imbalanced data:')\n",
    "print(confusion_matrix(y, y_pred))\n",
    "\n",
    "# Define the SMOTE resampler\n",
    "smote = SMOTE()\n",
    "\n",
    "# Resample the data using SMOTE\n",
    "X_res, y_res = smote.fit_resample(X, y)\n",
    "\n",
    "# Fit the model to the resampled data\n",
    "log_reg.fit(X_res, y_res)\n",
    "\n",
    "# Make predictions with the model\n",
    "y_pred_res = log_reg.predict(X_res)\n",
    "\n",
    "# Print the confusion matrix of the model\n",
    "print('Confusion matrix of the model on resampled data:')\n",
    "print(confusion_matrix(y_res, y_pred_res))\n"
   ]
  },
  {
   "cell_type": "code",
   "execution_count": 162,
   "id": "905b6c07",
   "metadata": {},
   "outputs": [],
   "source": [
    "#cross validation\n",
    "# Import libraries\n",
    "import pandas as pd\n",
    "from sklearn.datasets import load_iris\n",
    "from sklearn.linear_model import LogisticRegression, LogisticRegressionCV\n",
    "from sklearn.metrics import confusion_matrix\n",
    "\n",
    "# Load the iris dataset\n",
    "X, y = load_iris(return_X_y=True)\n",
    "X = pd.DataFrame(X, columns=load_iris().feature_names)\n",
    "y = pd.Series(y, name='species')\n",
    "\n",
    "# Define the multinomial logistic regression model with alpha=0.1 and l1_ratio=0.5\n",
    "log_reg = LogisticRegression(multi_class='multinomial', max_iter=10000, alpha=0.1, l1_ratio=0.5)\n",
    "\n",
    "# Fit the model to the data\n",
    "log_reg.fit(X, y)\n",
    "\n",
    "# Make predictions with the model\n",
    "y_pred = log_reg.predict(X)\n",
    "\n",
    "# Print the confusion matrix of the model\n",
    "print('Confusion matrix of the model on original data:')\n",
    "print(confusion_matrix(y, y_pred))\n",
    "\n",
    "# Define the multinomial logistic regression model with cross-validation\n",
    "log_reg_cv = LogisticRegressionCV(multi_class='multinomial', max_iter=10000)\n",
    "\n",
    "# Fit the model to the data\n",
    "log_reg_cv.fit(X, y)\n",
    "\n",
    "# Make predictions with the model\n",
    "y_pred_cv = log_reg_cv.predict(X)\n",
    "\n",
    "# Print the confusion matrix of the model\n",
    "print('Confusion matrix of the model on cross-validated data:')\n",
    "print(confusion_matrix(y, y_pred_cv))\n",
    "\n",
    "# Print the optimal values of alpha and l1_ratio\n",
    "print('Optimal value of alpha:', log_reg_cv.alpha_)\n",
    "print('Optimal value of l1_ratio:', log_reg_cv.l1_ratio_)\n"
   ]
  },
  {
   "cell_type": "code",
   "execution_count": null,
   "id": "736f5b49",
   "metadata": {},
   "outputs": [],
   "source": []
  },
  {
   "cell_type": "code",
   "execution_count": 150,
   "id": "c64dd674",
   "metadata": {},
   "outputs": [
    {
     "ename": "ValueError",
     "evalue": "multiclass format is not supported",
     "output_type": "error",
     "traceback": [
      "\u001b[1;31m---------------------------------------------------------------------------\u001b[0m",
      "\u001b[1;31mValueError\u001b[0m                                Traceback (most recent call last)",
      "Cell \u001b[1;32mIn[150], line 2\u001b[0m\n\u001b[0;32m      1\u001b[0m \u001b[38;5;66;03m# Plot the ROC curve\u001b[39;00m\n\u001b[1;32m----> 2\u001b[0m fpr, tpr, thresholds \u001b[38;5;241m=\u001b[39m \u001b[43mroc_curve\u001b[49m\u001b[43m(\u001b[49m\u001b[43my_val_encoded\u001b[49m\u001b[43m,\u001b[49m\u001b[43m \u001b[49m\u001b[43my_prob\u001b[49m\u001b[43m[\u001b[49m\u001b[43m:\u001b[49m\u001b[43m,\u001b[49m\u001b[43m \u001b[49m\u001b[38;5;241;43m1\u001b[39;49m\u001b[43m]\u001b[49m\u001b[43m)\u001b[49m \u001b[38;5;66;03m#false positive rate and the true positive rate\u001b[39;00m\n\u001b[0;32m      4\u001b[0m roc_auc \u001b[38;5;241m=\u001b[39m auc(fpr, tpr) \u001b[38;5;66;03m#area under the curve\u001b[39;00m\n\u001b[0;32m      6\u001b[0m plt\u001b[38;5;241m.\u001b[39mfigure(figsize\u001b[38;5;241m=\u001b[39m(\u001b[38;5;241m8\u001b[39m, \u001b[38;5;241m6\u001b[39m))\n",
      "File \u001b[1;32m~\\anaconda3\\lib\\site-packages\\sklearn\\utils\\_param_validation.py:211\u001b[0m, in \u001b[0;36mvalidate_params.<locals>.decorator.<locals>.wrapper\u001b[1;34m(*args, **kwargs)\u001b[0m\n\u001b[0;32m    205\u001b[0m \u001b[38;5;28;01mtry\u001b[39;00m:\n\u001b[0;32m    206\u001b[0m     \u001b[38;5;28;01mwith\u001b[39;00m config_context(\n\u001b[0;32m    207\u001b[0m         skip_parameter_validation\u001b[38;5;241m=\u001b[39m(\n\u001b[0;32m    208\u001b[0m             prefer_skip_nested_validation \u001b[38;5;129;01mor\u001b[39;00m global_skip_validation\n\u001b[0;32m    209\u001b[0m         )\n\u001b[0;32m    210\u001b[0m     ):\n\u001b[1;32m--> 211\u001b[0m         \u001b[38;5;28;01mreturn\u001b[39;00m func(\u001b[38;5;241m*\u001b[39margs, \u001b[38;5;241m*\u001b[39m\u001b[38;5;241m*\u001b[39mkwargs)\n\u001b[0;32m    212\u001b[0m \u001b[38;5;28;01mexcept\u001b[39;00m InvalidParameterError \u001b[38;5;28;01mas\u001b[39;00m e:\n\u001b[0;32m    213\u001b[0m     \u001b[38;5;66;03m# When the function is just a wrapper around an estimator, we allow\u001b[39;00m\n\u001b[0;32m    214\u001b[0m     \u001b[38;5;66;03m# the function to delegate validation to the estimator, but we replace\u001b[39;00m\n\u001b[0;32m    215\u001b[0m     \u001b[38;5;66;03m# the name of the estimator by the name of the function in the error\u001b[39;00m\n\u001b[0;32m    216\u001b[0m     \u001b[38;5;66;03m# message to avoid confusion.\u001b[39;00m\n\u001b[0;32m    217\u001b[0m     msg \u001b[38;5;241m=\u001b[39m re\u001b[38;5;241m.\u001b[39msub(\n\u001b[0;32m    218\u001b[0m         \u001b[38;5;124mr\u001b[39m\u001b[38;5;124m\"\u001b[39m\u001b[38;5;124mparameter of \u001b[39m\u001b[38;5;124m\\\u001b[39m\u001b[38;5;124mw+ must be\u001b[39m\u001b[38;5;124m\"\u001b[39m,\n\u001b[0;32m    219\u001b[0m         \u001b[38;5;124mf\u001b[39m\u001b[38;5;124m\"\u001b[39m\u001b[38;5;124mparameter of \u001b[39m\u001b[38;5;132;01m{\u001b[39;00mfunc\u001b[38;5;241m.\u001b[39m\u001b[38;5;18m__qualname__\u001b[39m\u001b[38;5;132;01m}\u001b[39;00m\u001b[38;5;124m must be\u001b[39m\u001b[38;5;124m\"\u001b[39m,\n\u001b[0;32m    220\u001b[0m         \u001b[38;5;28mstr\u001b[39m(e),\n\u001b[0;32m    221\u001b[0m     )\n",
      "File \u001b[1;32m~\\anaconda3\\lib\\site-packages\\sklearn\\metrics\\_ranking.py:1094\u001b[0m, in \u001b[0;36mroc_curve\u001b[1;34m(y_true, y_score, pos_label, sample_weight, drop_intermediate)\u001b[0m\n\u001b[0;32m    992\u001b[0m \u001b[38;5;129m@validate_params\u001b[39m(\n\u001b[0;32m    993\u001b[0m     {\n\u001b[0;32m    994\u001b[0m         \u001b[38;5;124m\"\u001b[39m\u001b[38;5;124my_true\u001b[39m\u001b[38;5;124m\"\u001b[39m: [\u001b[38;5;124m\"\u001b[39m\u001b[38;5;124marray-like\u001b[39m\u001b[38;5;124m\"\u001b[39m],\n\u001b[1;32m   (...)\u001b[0m\n\u001b[0;32m   1003\u001b[0m     y_true, y_score, \u001b[38;5;241m*\u001b[39m, pos_label\u001b[38;5;241m=\u001b[39m\u001b[38;5;28;01mNone\u001b[39;00m, sample_weight\u001b[38;5;241m=\u001b[39m\u001b[38;5;28;01mNone\u001b[39;00m, drop_intermediate\u001b[38;5;241m=\u001b[39m\u001b[38;5;28;01mTrue\u001b[39;00m\n\u001b[0;32m   1004\u001b[0m ):\n\u001b[0;32m   1005\u001b[0m \u001b[38;5;250m    \u001b[39m\u001b[38;5;124;03m\"\"\"Compute Receiver operating characteristic (ROC).\u001b[39;00m\n\u001b[0;32m   1006\u001b[0m \n\u001b[0;32m   1007\u001b[0m \u001b[38;5;124;03m    Note: this implementation is restricted to the binary classification task.\u001b[39;00m\n\u001b[1;32m   (...)\u001b[0m\n\u001b[0;32m   1092\u001b[0m \u001b[38;5;124;03m    array([ inf, 0.8 , 0.4 , 0.35, 0.1 ])\u001b[39;00m\n\u001b[0;32m   1093\u001b[0m \u001b[38;5;124;03m    \"\"\"\u001b[39;00m\n\u001b[1;32m-> 1094\u001b[0m     fps, tps, thresholds \u001b[38;5;241m=\u001b[39m \u001b[43m_binary_clf_curve\u001b[49m\u001b[43m(\u001b[49m\n\u001b[0;32m   1095\u001b[0m \u001b[43m        \u001b[49m\u001b[43my_true\u001b[49m\u001b[43m,\u001b[49m\u001b[43m \u001b[49m\u001b[43my_score\u001b[49m\u001b[43m,\u001b[49m\u001b[43m \u001b[49m\u001b[43mpos_label\u001b[49m\u001b[38;5;241;43m=\u001b[39;49m\u001b[43mpos_label\u001b[49m\u001b[43m,\u001b[49m\u001b[43m \u001b[49m\u001b[43msample_weight\u001b[49m\u001b[38;5;241;43m=\u001b[39;49m\u001b[43msample_weight\u001b[49m\n\u001b[0;32m   1096\u001b[0m \u001b[43m    \u001b[49m\u001b[43m)\u001b[49m\n\u001b[0;32m   1098\u001b[0m     \u001b[38;5;66;03m# Attempt to drop thresholds corresponding to points in between and\u001b[39;00m\n\u001b[0;32m   1099\u001b[0m     \u001b[38;5;66;03m# collinear with other points. These are always suboptimal and do not\u001b[39;00m\n\u001b[0;32m   1100\u001b[0m     \u001b[38;5;66;03m# appear on a plotted ROC curve (and thus do not affect the AUC).\u001b[39;00m\n\u001b[1;32m   (...)\u001b[0m\n\u001b[0;32m   1105\u001b[0m     \u001b[38;5;66;03m# but does not drop more complicated cases like fps = [1, 3, 7],\u001b[39;00m\n\u001b[0;32m   1106\u001b[0m     \u001b[38;5;66;03m# tps = [1, 2, 4]; there is no harm in keeping too many thresholds.\u001b[39;00m\n\u001b[0;32m   1107\u001b[0m     \u001b[38;5;28;01mif\u001b[39;00m drop_intermediate \u001b[38;5;129;01mand\u001b[39;00m \u001b[38;5;28mlen\u001b[39m(fps) \u001b[38;5;241m>\u001b[39m \u001b[38;5;241m2\u001b[39m:\n",
      "File \u001b[1;32m~\\anaconda3\\lib\\site-packages\\sklearn\\metrics\\_ranking.py:803\u001b[0m, in \u001b[0;36m_binary_clf_curve\u001b[1;34m(y_true, y_score, pos_label, sample_weight)\u001b[0m\n\u001b[0;32m    801\u001b[0m y_type \u001b[38;5;241m=\u001b[39m type_of_target(y_true, input_name\u001b[38;5;241m=\u001b[39m\u001b[38;5;124m\"\u001b[39m\u001b[38;5;124my_true\u001b[39m\u001b[38;5;124m\"\u001b[39m)\n\u001b[0;32m    802\u001b[0m \u001b[38;5;28;01mif\u001b[39;00m \u001b[38;5;129;01mnot\u001b[39;00m (y_type \u001b[38;5;241m==\u001b[39m \u001b[38;5;124m\"\u001b[39m\u001b[38;5;124mbinary\u001b[39m\u001b[38;5;124m\"\u001b[39m \u001b[38;5;129;01mor\u001b[39;00m (y_type \u001b[38;5;241m==\u001b[39m \u001b[38;5;124m\"\u001b[39m\u001b[38;5;124mmulticlass\u001b[39m\u001b[38;5;124m\"\u001b[39m \u001b[38;5;129;01mand\u001b[39;00m pos_label \u001b[38;5;129;01mis\u001b[39;00m \u001b[38;5;129;01mnot\u001b[39;00m \u001b[38;5;28;01mNone\u001b[39;00m)):\n\u001b[1;32m--> 803\u001b[0m     \u001b[38;5;28;01mraise\u001b[39;00m \u001b[38;5;167;01mValueError\u001b[39;00m(\u001b[38;5;124m\"\u001b[39m\u001b[38;5;132;01m{0}\u001b[39;00m\u001b[38;5;124m format is not supported\u001b[39m\u001b[38;5;124m\"\u001b[39m\u001b[38;5;241m.\u001b[39mformat(y_type))\n\u001b[0;32m    805\u001b[0m check_consistent_length(y_true, y_score, sample_weight)\n\u001b[0;32m    806\u001b[0m y_true \u001b[38;5;241m=\u001b[39m column_or_1d(y_true)\n",
      "\u001b[1;31mValueError\u001b[0m: multiclass format is not supported"
     ]
    }
   ],
   "source": [
    "# Plot the ROC curve\n",
    "fpr, tpr, thresholds = roc_curve(y_val_encoded, y_prob[:, 1]) #false positive rate and the true positive rate\n",
    "\n",
    "roc_auc = auc(fpr, tpr) #area under the curve\n",
    "\n",
    "plt.figure(figsize=(8, 6))\n",
    "plt.plot(fpr, tpr, color='blue', label=f'ROC curve (area = {roc_auc:.2f})')\n",
    "plt.plot([0, 1], [0, 1], color='red', linestyle='--')\n",
    "plt.xlabel('False Positive Rate')\n",
    "plt.ylabel('True Positive Rate')\n",
    "plt.title('Receiver Operating Characteristic')\n",
    "plt.legend(loc='lower right')\n",
    "plt.show()"
   ]
  },
  {
   "cell_type": "code",
   "execution_count": null,
   "id": "2f3499f5",
   "metadata": {},
   "outputs": [],
   "source": []
  },
  {
   "cell_type": "code",
   "execution_count": null,
   "id": "f76051b6",
   "metadata": {},
   "outputs": [],
   "source": [
    "Decision tree"
   ]
  },
  {
   "cell_type": "code",
   "execution_count": null,
   "id": "50445551",
   "metadata": {},
   "outputs": [],
   "source": []
  },
  {
   "cell_type": "code",
   "execution_count": null,
   "id": "2c858822",
   "metadata": {},
   "outputs": [],
   "source": []
  },
  {
   "cell_type": "code",
   "execution_count": null,
   "id": "5c355485",
   "metadata": {},
   "outputs": [],
   "source": []
  },
  {
   "cell_type": "code",
   "execution_count": null,
   "id": "c3015909",
   "metadata": {},
   "outputs": [],
   "source": [
    "Neural networks"
   ]
  },
  {
   "cell_type": "code",
   "execution_count": null,
   "id": "990ad7a8",
   "metadata": {},
   "outputs": [],
   "source": []
  }
 ],
 "metadata": {
  "kernelspec": {
   "display_name": "Python 3 (ipykernel)",
   "language": "python",
   "name": "python3"
  },
  "language_info": {
   "codemirror_mode": {
    "name": "ipython",
    "version": 3
   },
   "file_extension": ".py",
   "mimetype": "text/x-python",
   "name": "python",
   "nbconvert_exporter": "python",
   "pygments_lexer": "ipython3",
   "version": "3.10.13"
  }
 },
 "nbformat": 4,
 "nbformat_minor": 5
}
