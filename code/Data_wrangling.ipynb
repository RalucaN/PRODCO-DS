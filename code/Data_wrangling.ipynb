{
 "cells": [
  {
   "cell_type": "markdown",
   "id": "56996739",
   "metadata": {},
   "source": [
    "# Root cause analysis of failure using machine learning\n",
    "\n",
    "\n",
    "Root cause analysis = process of identifying errors and flaws in the quality of manufactured product\n",
    "\n",
    "ML: Graph and bayesian networks - pgmpy\n",
    "\n",
    "\n",
    "\n"
   ]
  },
  {
   "cell_type": "markdown",
   "id": "ea92b6f9",
   "metadata": {},
   "source": [
    "---\n",
    "### 1. Loading required libraries and data"
   ]
  },
  {
   "cell_type": "code",
   "execution_count": 27,
   "id": "ed72e6f0",
   "metadata": {},
   "outputs": [],
   "source": [
    "import pandas as pd\n",
    "from ydata_profiling import ProfileReport\n"
   ]
  },
  {
   "cell_type": "code",
   "execution_count": 36,
   "id": "aff64961",
   "metadata": {},
   "outputs": [],
   "source": [
    "data=pd.read_csv('../data/WIDS Dataset_2020_Adj.csv')"
   ]
  },
  {
   "cell_type": "markdown",
   "id": "bf8fffa0",
   "metadata": {},
   "source": [
    "---\n",
    "### 2. Exploring data\n",
    "- renaming and dropping columns\n",
    "- dropping duplicates"
   ]
  },
  {
   "cell_type": "code",
   "execution_count": 37,
   "id": "52d866d6",
   "metadata": {},
   "outputs": [
    {
     "data": {
      "text/plain": [
       "(75750, 53)"
      ]
     },
     "execution_count": 37,
     "metadata": {},
     "output_type": "execute_result"
    }
   ],
   "source": [
    "data.shape"
   ]
  },
  {
   "cell_type": "code",
   "execution_count": 38,
   "id": "5be2d8c0",
   "metadata": {},
   "outputs": [
    {
     "data": {
      "text/html": [
       "<div>\n",
       "<style scoped>\n",
       "    .dataframe tbody tr th:only-of-type {\n",
       "        vertical-align: middle;\n",
       "    }\n",
       "\n",
       "    .dataframe tbody tr th {\n",
       "        vertical-align: top;\n",
       "    }\n",
       "\n",
       "    .dataframe thead th {\n",
       "        text-align: right;\n",
       "    }\n",
       "</style>\n",
       "<table border=\"1\" class=\"dataframe\">\n",
       "  <thead>\n",
       "    <tr style=\"text-align: right;\">\n",
       "      <th></th>\n",
       "      <th>X</th>\n",
       "      <th>Date</th>\n",
       "      <th>Zone1Position</th>\n",
       "      <th>Zone2Position</th>\n",
       "      <th>Zone3Position</th>\n",
       "      <th>SKU</th>\n",
       "      <th>Zone1_Row_Num</th>\n",
       "      <th>Zone1_Col_Num</th>\n",
       "      <th>Zone2_Row_Num</th>\n",
       "      <th>Zone2_Col_num</th>\n",
       "      <th>...</th>\n",
       "      <th>Zone2_Humidity_Max</th>\n",
       "      <th>Zone2_Humidity_Range</th>\n",
       "      <th>Zone3_Humidity_Avg</th>\n",
       "      <th>Zone3_Humidity_Min</th>\n",
       "      <th>Zone3_Humidity_Max</th>\n",
       "      <th>Zone3_Humidity_Range</th>\n",
       "      <th>Block_Num</th>\n",
       "      <th>Block_Position</th>\n",
       "      <th>Block_Orientation</th>\n",
       "      <th>Result_Type</th>\n",
       "    </tr>\n",
       "  </thead>\n",
       "  <tbody>\n",
       "    <tr>\n",
       "      <th>0</th>\n",
       "      <td>1</td>\n",
       "      <td>09/01/2020</td>\n",
       "      <td>3.0</td>\n",
       "      <td>2.0</td>\n",
       "      <td>3.0</td>\n",
       "      <td>A001</td>\n",
       "      <td>1.0</td>\n",
       "      <td>3.0</td>\n",
       "      <td>1.0</td>\n",
       "      <td>2.0</td>\n",
       "      <td>...</td>\n",
       "      <td>61.80</td>\n",
       "      <td>10.0</td>\n",
       "      <td>39.19</td>\n",
       "      <td>33.19</td>\n",
       "      <td>45.19</td>\n",
       "      <td>12.0</td>\n",
       "      <td>1000.0</td>\n",
       "      <td>1.0</td>\n",
       "      <td>1</td>\n",
       "      <td>Defect_1</td>\n",
       "    </tr>\n",
       "    <tr>\n",
       "      <th>1</th>\n",
       "      <td>2</td>\n",
       "      <td>03/12/2019</td>\n",
       "      <td>8.0</td>\n",
       "      <td>4.0</td>\n",
       "      <td>3.0</td>\n",
       "      <td>A001</td>\n",
       "      <td>2.0</td>\n",
       "      <td>4.0</td>\n",
       "      <td>2.0</td>\n",
       "      <td>2.0</td>\n",
       "      <td>...</td>\n",
       "      <td>58.12</td>\n",
       "      <td>16.0</td>\n",
       "      <td>48.50</td>\n",
       "      <td>40.50</td>\n",
       "      <td>56.50</td>\n",
       "      <td>16.0</td>\n",
       "      <td>1003.0</td>\n",
       "      <td>1.0</td>\n",
       "      <td>1</td>\n",
       "      <td>Defect_1</td>\n",
       "    </tr>\n",
       "    <tr>\n",
       "      <th>2</th>\n",
       "      <td>3</td>\n",
       "      <td>21/11/2019</td>\n",
       "      <td>4.0</td>\n",
       "      <td>2.0</td>\n",
       "      <td>3.0</td>\n",
       "      <td>B003</td>\n",
       "      <td>1.0</td>\n",
       "      <td>4.0</td>\n",
       "      <td>1.0</td>\n",
       "      <td>2.0</td>\n",
       "      <td>...</td>\n",
       "      <td>50.97</td>\n",
       "      <td>10.0</td>\n",
       "      <td>52.20</td>\n",
       "      <td>46.20</td>\n",
       "      <td>58.20</td>\n",
       "      <td>12.0</td>\n",
       "      <td>1001.0</td>\n",
       "      <td>4.0</td>\n",
       "      <td>1</td>\n",
       "      <td>PASS</td>\n",
       "    </tr>\n",
       "    <tr>\n",
       "      <th>3</th>\n",
       "      <td>4</td>\n",
       "      <td>22/11/2019</td>\n",
       "      <td>6.0</td>\n",
       "      <td>3.0</td>\n",
       "      <td>1.0</td>\n",
       "      <td>B003</td>\n",
       "      <td>2.0</td>\n",
       "      <td>2.0</td>\n",
       "      <td>2.0</td>\n",
       "      <td>1.0</td>\n",
       "      <td>...</td>\n",
       "      <td>59.13</td>\n",
       "      <td>4.0</td>\n",
       "      <td>39.29</td>\n",
       "      <td>31.29</td>\n",
       "      <td>47.29</td>\n",
       "      <td>16.0</td>\n",
       "      <td>1003.0</td>\n",
       "      <td>2.0</td>\n",
       "      <td>1</td>\n",
       "      <td>PASS</td>\n",
       "    </tr>\n",
       "    <tr>\n",
       "      <th>4</th>\n",
       "      <td>5</td>\n",
       "      <td>23/12/2019</td>\n",
       "      <td>3.0</td>\n",
       "      <td>2.0</td>\n",
       "      <td>3.0</td>\n",
       "      <td>B003</td>\n",
       "      <td>1.0</td>\n",
       "      <td>3.0</td>\n",
       "      <td>1.0</td>\n",
       "      <td>2.0</td>\n",
       "      <td>...</td>\n",
       "      <td>65.80</td>\n",
       "      <td>18.0</td>\n",
       "      <td>45.37</td>\n",
       "      <td>42.37</td>\n",
       "      <td>48.37</td>\n",
       "      <td>6.0</td>\n",
       "      <td>1002.0</td>\n",
       "      <td>1.0</td>\n",
       "      <td>1</td>\n",
       "      <td>PASS</td>\n",
       "    </tr>\n",
       "  </tbody>\n",
       "</table>\n",
       "<p>5 rows × 53 columns</p>\n",
       "</div>"
      ],
      "text/plain": [
       "   X        Date  Zone1Position  Zone2Position  Zone3Position   SKU  \\\n",
       "0  1  09/01/2020            3.0            2.0            3.0  A001   \n",
       "1  2  03/12/2019            8.0            4.0            3.0  A001   \n",
       "2  3  21/11/2019            4.0            2.0            3.0  B003   \n",
       "3  4  22/11/2019            6.0            3.0            1.0  B003   \n",
       "4  5  23/12/2019            3.0            2.0            3.0  B003   \n",
       "\n",
       "   Zone1_Row_Num  Zone1_Col_Num  Zone2_Row_Num  Zone2_Col_num  ...  \\\n",
       "0            1.0            3.0            1.0            2.0  ...   \n",
       "1            2.0            4.0            2.0            2.0  ...   \n",
       "2            1.0            4.0            1.0            2.0  ...   \n",
       "3            2.0            2.0            2.0            1.0  ...   \n",
       "4            1.0            3.0            1.0            2.0  ...   \n",
       "\n",
       "   Zone2_Humidity_Max  Zone2_Humidity_Range  Zone3_Humidity_Avg  \\\n",
       "0               61.80                  10.0               39.19   \n",
       "1               58.12                  16.0               48.50   \n",
       "2               50.97                  10.0               52.20   \n",
       "3               59.13                   4.0               39.29   \n",
       "4               65.80                  18.0               45.37   \n",
       "\n",
       "   Zone3_Humidity_Min Zone3_Humidity_Max Zone3_Humidity_Range  Block_Num  \\\n",
       "0               33.19              45.19                 12.0     1000.0   \n",
       "1               40.50              56.50                 16.0     1003.0   \n",
       "2               46.20              58.20                 12.0     1001.0   \n",
       "3               31.29              47.29                 16.0     1003.0   \n",
       "4               42.37              48.37                  6.0     1002.0   \n",
       "\n",
       "   Block_Position  Block_Orientation  Result_Type  \n",
       "0             1.0                  1     Defect_1  \n",
       "1             1.0                  1     Defect_1  \n",
       "2             4.0                  1         PASS  \n",
       "3             2.0                  1         PASS  \n",
       "4             1.0                  1         PASS  \n",
       "\n",
       "[5 rows x 53 columns]"
      ]
     },
     "execution_count": 38,
     "metadata": {},
     "output_type": "execute_result"
    }
   ],
   "source": [
    "data.head()"
   ]
  },
  {
   "cell_type": "markdown",
   "id": "c370809e",
   "metadata": {},
   "source": [
    "> Dropping `X` column as it's unnecessary"
   ]
  },
  {
   "cell_type": "code",
   "execution_count": 39,
   "id": "b26c413f",
   "metadata": {},
   "outputs": [],
   "source": [
    "data.drop(columns=['X'], inplace=True)"
   ]
  },
  {
   "cell_type": "code",
   "execution_count": 40,
   "id": "9a478eda",
   "metadata": {},
   "outputs": [
    {
     "data": {
      "text/plain": [
       "False    75000\n",
       "True       750\n",
       "Name: count, dtype: int64"
      ]
     },
     "execution_count": 40,
     "metadata": {},
     "output_type": "execute_result"
    }
   ],
   "source": [
    "data.duplicated().value_counts()"
   ]
  },
  {
   "cell_type": "markdown",
   "id": "ac4dbf64",
   "metadata": {},
   "source": [
    "> Dropping the `750` duplicated rows"
   ]
  },
  {
   "cell_type": "code",
   "execution_count": 41,
   "id": "b4e47191",
   "metadata": {},
   "outputs": [],
   "source": [
    "data.drop_duplicates(inplace=True)"
   ]
  },
  {
   "cell_type": "code",
   "execution_count": 42,
   "id": "5c186b6c",
   "metadata": {},
   "outputs": [
    {
     "data": {
      "text/plain": [
       "['Date',\n",
       " 'Zone1Position',\n",
       " 'Zone2Position',\n",
       " 'Zone3Position',\n",
       " 'SKU',\n",
       " 'Zone1_Row_Num',\n",
       " 'Zone1_Col_Num',\n",
       " 'Zone2_Row_Num',\n",
       " 'Zone2_Col_num',\n",
       " 'Zone3_Row_Num',\n",
       " 'Zone3_Col_Num',\n",
       " 'Zone1_Left_Block_Bin',\n",
       " 'Zone1_Right_Block_Bin',\n",
       " 'Zone1_Area',\n",
       " 'Zone3_Area',\n",
       " 'Zone1_Dur',\n",
       " 'Zone2_Dur',\n",
       " 'Zone3_Dur',\n",
       " 'Zone1_Out_Zone2_In_Dur',\n",
       " 'Zone1_Out_Zone3_In_Dur',\n",
       " 'Zone2_Out_Zone3_In_Dur',\n",
       " 'Zone1_In_Zone3_Out_Dur',\n",
       " 'Zone1_In_Zone2_Out_Dur',\n",
       " 'Zone2_In_Zone3_Out_Dur',\n",
       " 'Zone1_Temp_Avg',\n",
       " 'Zone1_Temp_Min',\n",
       " 'Zone1_Temp_Max',\n",
       " 'Zone1_Temp_Range',\n",
       " 'Zone2_Temp_Avg',\n",
       " 'Zone2_Temp_Min',\n",
       " 'Zone2_Temp_Max',\n",
       " 'Zone2_Temp_Range',\n",
       " 'Zone3_Temp_Avg',\n",
       " 'Zone3_Temp_Min',\n",
       " 'Zone3_Temp_Max',\n",
       " 'Zone3_Temp_Range',\n",
       " 'Zone1_Humidity_Avg',\n",
       " 'Zone1_Humidity_Min',\n",
       " 'Zone1_Humidity_Max',\n",
       " 'Zone1_Humidity_Range',\n",
       " 'Zone2_Humidity_Avg',\n",
       " 'Zone2_Humidity_Min',\n",
       " 'Zone2_Humidity_Max',\n",
       " 'Zone2_Humidity_Range',\n",
       " 'Zone3_Humidity_Avg',\n",
       " 'Zone3_Humidity_Min',\n",
       " 'Zone3_Humidity_Max',\n",
       " 'Zone3_Humidity_Range',\n",
       " 'Block_Num',\n",
       " 'Block_Position',\n",
       " 'Block_Orientation',\n",
       " 'Result_Type']"
      ]
     },
     "execution_count": 42,
     "metadata": {},
     "output_type": "execute_result"
    }
   ],
   "source": [
    "# Checking column names\n",
    "data.columns.tolist()"
   ]
  },
  {
   "cell_type": "code",
   "execution_count": 43,
   "id": "cd0b6be8",
   "metadata": {},
   "outputs": [],
   "source": [
    "# I will capitalize the `num` in `Zone2_Col_num` for consistency purposes\n",
    "data.rename(columns={'Zone2_Col_num':'Zone2_Col_Num'}, inplace=True)"
   ]
  },
  {
   "cell_type": "code",
   "execution_count": 44,
   "id": "a2d8b0bb",
   "metadata": {},
   "outputs": [
    {
     "data": {
      "text/plain": [
       "['Date',\n",
       " 'Zone1Position',\n",
       " 'Zone2Position',\n",
       " 'Zone3Position',\n",
       " 'SKU',\n",
       " 'Zone1_Row_Num',\n",
       " 'Zone1_Col_Num',\n",
       " 'Zone2_Row_Num',\n",
       " 'Zone2_Col_Num',\n",
       " 'Zone3_Row_Num',\n",
       " 'Zone3_Col_Num',\n",
       " 'Zone1_Left_Block_Bin',\n",
       " 'Zone1_Right_Block_Bin',\n",
       " 'Zone1_Area',\n",
       " 'Zone3_Area',\n",
       " 'Zone1_Dur',\n",
       " 'Zone2_Dur',\n",
       " 'Zone3_Dur',\n",
       " 'Zone1_Out_Zone2_In_Dur',\n",
       " 'Zone1_Out_Zone3_In_Dur',\n",
       " 'Zone2_Out_Zone3_In_Dur',\n",
       " 'Zone1_In_Zone3_Out_Dur',\n",
       " 'Zone1_In_Zone2_Out_Dur',\n",
       " 'Zone2_In_Zone3_Out_Dur',\n",
       " 'Zone1_Temp_Avg',\n",
       " 'Zone1_Temp_Min',\n",
       " 'Zone1_Temp_Max',\n",
       " 'Zone1_Temp_Range',\n",
       " 'Zone2_Temp_Avg',\n",
       " 'Zone2_Temp_Min',\n",
       " 'Zone2_Temp_Max',\n",
       " 'Zone2_Temp_Range',\n",
       " 'Zone3_Temp_Avg',\n",
       " 'Zone3_Temp_Min',\n",
       " 'Zone3_Temp_Max',\n",
       " 'Zone3_Temp_Range',\n",
       " 'Zone1_Humidity_Avg',\n",
       " 'Zone1_Humidity_Min',\n",
       " 'Zone1_Humidity_Max',\n",
       " 'Zone1_Humidity_Range',\n",
       " 'Zone2_Humidity_Avg',\n",
       " 'Zone2_Humidity_Min',\n",
       " 'Zone2_Humidity_Max',\n",
       " 'Zone2_Humidity_Range',\n",
       " 'Zone3_Humidity_Avg',\n",
       " 'Zone3_Humidity_Min',\n",
       " 'Zone3_Humidity_Max',\n",
       " 'Zone3_Humidity_Range',\n",
       " 'Block_Num',\n",
       " 'Block_Position',\n",
       " 'Block_Orientation',\n",
       " 'Result_Type']"
      ]
     },
     "execution_count": 44,
     "metadata": {},
     "output_type": "execute_result"
    }
   ],
   "source": [
    "data.columns.tolist()"
   ]
  },
  {
   "cell_type": "code",
   "execution_count": 45,
   "id": "79a9483a",
   "metadata": {},
   "outputs": [
    {
     "data": {
      "text/plain": [
       "False    75000\n",
       "Name: count, dtype: int64"
      ]
     },
     "execution_count": 45,
     "metadata": {},
     "output_type": "execute_result"
    }
   ],
   "source": [
    "data.duplicated().value_counts()"
   ]
  },
  {
   "cell_type": "markdown",
   "id": "e1b70bf6",
   "metadata": {},
   "source": [
    "### 3. Handling missing values"
   ]
  },
  {
   "cell_type": "code",
   "execution_count": 46,
   "id": "112ee353",
   "metadata": {},
   "outputs": [
    {
     "data": {
      "text/plain": [
       "Date                      42\n",
       "Zone1Position             36\n",
       "Zone2Position             43\n",
       "Zone3Position             37\n",
       "SKU                       38\n",
       "Zone1_Row_Num             34\n",
       "Zone1_Col_Num             42\n",
       "Zone2_Row_Num             46\n",
       "Zone2_Col_Num             34\n",
       "Zone3_Row_Num             37\n",
       "Zone3_Col_Num             35\n",
       "Zone1_Left_Block_Bin      42\n",
       "Zone1_Right_Block_Bin     40\n",
       "Zone1_Area                41\n",
       "Zone3_Area                32\n",
       "Zone1_Dur                 37\n",
       "Zone2_Dur                 41\n",
       "Zone3_Dur                 46\n",
       "Zone1_Out_Zone2_In_Dur    42\n",
       "Zone1_Out_Zone3_In_Dur    41\n",
       "Zone2_Out_Zone3_In_Dur    41\n",
       "Zone1_In_Zone3_Out_Dur    34\n",
       "Zone1_In_Zone2_Out_Dur    44\n",
       "Zone2_In_Zone3_Out_Dur    38\n",
       "Zone1_Temp_Avg            52\n",
       "Zone1_Temp_Min            46\n",
       "Zone1_Temp_Max            38\n",
       "Zone1_Temp_Range          40\n",
       "Zone2_Temp_Avg            51\n",
       "Zone2_Temp_Min            51\n",
       "Zone2_Temp_Max            37\n",
       "Zone2_Temp_Range          37\n",
       "Zone3_Temp_Avg            43\n",
       "Zone3_Temp_Min            26\n",
       "Zone3_Temp_Max            47\n",
       "Zone3_Temp_Range          28\n",
       "Zone1_Humidity_Avg        34\n",
       "Zone1_Humidity_Min        46\n",
       "Zone1_Humidity_Max        33\n",
       "Zone1_Humidity_Range      37\n",
       "Zone2_Humidity_Avg        34\n",
       "Zone2_Humidity_Min        39\n",
       "Zone2_Humidity_Max        47\n",
       "Zone2_Humidity_Range      50\n",
       "Zone3_Humidity_Avg        40\n",
       "Zone3_Humidity_Min        39\n",
       "Zone3_Humidity_Max        35\n",
       "Zone3_Humidity_Range      34\n",
       "Block_Num                 41\n",
       "Block_Position            39\n",
       "Block_Orientation          0\n",
       "Result_Type                0\n",
       "dtype: int64"
      ]
     },
     "execution_count": 46,
     "metadata": {},
     "output_type": "execute_result"
    }
   ],
   "source": [
    "data.isnull().sum()"
   ]
  },
  {
   "cell_type": "markdown",
   "id": "94d8f598",
   "metadata": {},
   "source": [
    "<center> <h2>Production process</h2> </center>\n",
    "\n",
    "<img src=\"../img/prod.png\" width=\"60%\" height=\"60%\"/>\n",
    "<img src=\"../img/z1-z2.png\" width=\"45%\" height=\"45%\"/>\n",
    "<img src=\"../img/z2-z3.png\" width=\"60%\" height=\"60%\"/>\n"
   ]
  },
  {
   "cell_type": "markdown",
   "id": "6da06d1c",
   "metadata": {},
   "source": [
    "> **Product trip schema**: Z1 > Z2 >Z3\n",
    "\n",
    "> Z1 1,2 > Z2 1 > Z3 left 1,2,4 <br>\n",
    "Z1 3,4 > Z2 2 > Z3 right 2,3,6 <br>\n",
    "Z1 5,6 > Z2 3 > Z3 right 1,4,5 <br>\n",
    "Z1 7,8 > Z2 4 > Z3 left 3,5,6 <br>\n",
    "\n",
    "> **Deduction process:** <br>\n",
    "Position = (row-1)* counts in row +col <br>\n",
    "Column = position - (row-1)* counts in row  <br>\n",
    "Row =((position - column)/counts in row)+1 <br>"
   ]
  },
  {
   "cell_type": "markdown",
   "id": "e579a0d2",
   "metadata": {},
   "source": [
    "#### A. Inputting missing values in the position, column and row columns"
   ]
  },
  {
   "cell_type": "code",
   "execution_count": 47,
   "id": "5d7f07ba",
   "metadata": {},
   "outputs": [],
   "source": [
    "zones={'Zone1':4, 'Zone2':2, 'Zone3':3}\n",
    "\n",
    "for key, value in zones.items():\n",
    "    data[key+\"Position\"].fillna(value=(((data[key+\"_Row_Num\"] -1) * value) + data[key+\"_Col_Num\"]), inplace=True)\n",
    "    data[key+\"_Col_Num\"].fillna(value=(data[key+\"Position\"] -((data[key+\"_Row_Num\"] -1) * value)), inplace=True)\n",
    "    data[key+\"_Row_Num\"].fillna(value=(((data[key+\"Position\"]-data[key+\"_Col_Num\"])/value)+1), inplace=True)"
   ]
  },
  {
   "cell_type": "markdown",
   "id": "50326516",
   "metadata": {},
   "source": [
    "#### B. Inputting missing values in block bins and areas"
   ]
  },
  {
   "cell_type": "code",
   "execution_count": 48,
   "id": "fc5a083e",
   "metadata": {},
   "outputs": [],
   "source": [
    "zone1_l_r={'Top Left':[[1,2],[1,0]],'Top Right':[[3,4],[0,1]],'Bottom Left':[[5,6],[1,0]],\n",
    "           'Bottom Right':[[7,8],[0,1]]}\n",
    "\n",
    "for key,values in zone1_l_r.items():\n",
    "    for value in values[0]:\n",
    "        indices= data['Zone1Position'] == value\n",
    "        data.loc[indices,'Zone1_Left_Block_Bin']=data.loc[indices,'Zone1_Left_Block_Bin'].fillna(value=values[1][0])\n",
    "        data.loc[indices,'Zone1_Right_Block_Bin']=data.loc[indices,'Zone1_Right_Block_Bin'].fillna(value=values[1][1])\n",
    "        data.loc[indices,'Zone1_Area']=data.loc[indices,'Zone1_Area'].fillna(value=key)"
   ]
  },
  {
   "cell_type": "code",
   "execution_count": 49,
   "id": "51332f88",
   "metadata": {},
   "outputs": [],
   "source": [
    "zone3_area={'Top Left':[1,2,4],'Bottom Right':[3,5,6]}\n",
    "for key,values in zone3_area.items():\n",
    "    for value in values:\n",
    "        indices= data['Zone3Position'] == value\n",
    "        data.loc[indices,'Zone3_Area']=data.loc[indices,'Zone3_Area'].fillna(value=key)"
   ]
  },
  {
   "cell_type": "markdown",
   "id": "de100539",
   "metadata": {},
   "source": [
    "#### C. Inputting missing values for temperature and humidity columns: min, max range"
   ]
  },
  {
   "cell_type": "code",
   "execution_count": 50,
   "id": "d113f064",
   "metadata": {},
   "outputs": [],
   "source": [
    "for key in zones.keys():\n",
    "    data[key+\"_Temp_Min\"].fillna(value=data[key+\"_Temp_Max\"]-data[key+\"_Temp_Range\"], inplace=True)\n",
    "    data[key+\"_Temp_Max\"].fillna(value=data[key+\"_Temp_Range\"]+data[key+\"_Temp_Min\"], inplace=True)\n",
    "    data[key+\"_Temp_Range\"].fillna(value=data[key+\"_Temp_Max\"]-data[key+\"_Temp_Min\"], inplace=True)\n",
    "    data[key+\"_Humidity_Min\"].fillna(value=data[key+\"_Humidity_Max\"]-data[key+\"_Humidity_Range\"], inplace=True)\n",
    "    data[key+\"_Humidity_Max\"].fillna(value=data[key+\"_Humidity_Range\"]+data[key+\"_Humidity_Min\"], inplace=True)\n",
    "    data[key+\"_Humidity_Range\"].fillna(value=data[key+\"_Humidity_Max\"]-data[key+\"_Humidity_Min\"], inplace=True)\n"
   ]
  },
  {
   "cell_type": "markdown",
   "id": "4cb826b7",
   "metadata": {},
   "source": [
    "#### D. Inputting missing values for average and duration columns"
   ]
  },
  {
   "cell_type": "code",
   "execution_count": 51,
   "id": "f89e8b9b",
   "metadata": {},
   "outputs": [],
   "source": [
    "mean_fill=data.columns[data.columns.str.contains('Dur|Avg')].to_list()\n",
    "for col in mean_fill:\n",
    "    data[col].fillna(value=data[col].mean(), inplace=True)"
   ]
  },
  {
   "cell_type": "code",
   "execution_count": 52,
   "id": "9f41d85d",
   "metadata": {},
   "outputs": [
    {
     "data": {
      "text/plain": [
       "Date                      42\n",
       "Zone1Position              0\n",
       "Zone2Position              0\n",
       "Zone3Position              0\n",
       "SKU                       38\n",
       "Zone1_Row_Num              0\n",
       "Zone1_Col_Num              0\n",
       "Zone2_Row_Num              0\n",
       "Zone2_Col_Num              0\n",
       "Zone3_Row_Num              0\n",
       "Zone3_Col_Num              0\n",
       "Zone1_Left_Block_Bin       0\n",
       "Zone1_Right_Block_Bin      0\n",
       "Zone1_Area                 0\n",
       "Zone3_Area                 0\n",
       "Zone1_Dur                  0\n",
       "Zone2_Dur                  0\n",
       "Zone3_Dur                  0\n",
       "Zone1_Out_Zone2_In_Dur     0\n",
       "Zone1_Out_Zone3_In_Dur     0\n",
       "Zone2_Out_Zone3_In_Dur     0\n",
       "Zone1_In_Zone3_Out_Dur     0\n",
       "Zone1_In_Zone2_Out_Dur     0\n",
       "Zone2_In_Zone3_Out_Dur     0\n",
       "Zone1_Temp_Avg             0\n",
       "Zone1_Temp_Min             0\n",
       "Zone1_Temp_Max             0\n",
       "Zone1_Temp_Range           0\n",
       "Zone2_Temp_Avg             0\n",
       "Zone2_Temp_Min             0\n",
       "Zone2_Temp_Max             0\n",
       "Zone2_Temp_Range           0\n",
       "Zone3_Temp_Avg             0\n",
       "Zone3_Temp_Min             0\n",
       "Zone3_Temp_Max             0\n",
       "Zone3_Temp_Range           0\n",
       "Zone1_Humidity_Avg         0\n",
       "Zone1_Humidity_Min         0\n",
       "Zone1_Humidity_Max         0\n",
       "Zone1_Humidity_Range       0\n",
       "Zone2_Humidity_Avg         0\n",
       "Zone2_Humidity_Min         0\n",
       "Zone2_Humidity_Max         0\n",
       "Zone2_Humidity_Range       0\n",
       "Zone3_Humidity_Avg         0\n",
       "Zone3_Humidity_Min         0\n",
       "Zone3_Humidity_Max         0\n",
       "Zone3_Humidity_Range       0\n",
       "Block_Num                 41\n",
       "Block_Position            39\n",
       "Block_Orientation          0\n",
       "Result_Type                0\n",
       "dtype: int64"
      ]
     },
     "execution_count": 52,
     "metadata": {},
     "output_type": "execute_result"
    }
   ],
   "source": [
    "data.isnull().sum()"
   ]
  },
  {
   "cell_type": "code",
   "execution_count": 53,
   "id": "1399524f",
   "metadata": {},
   "outputs": [],
   "source": [
    "cleaned=data.dropna()"
   ]
  },
  {
   "cell_type": "code",
   "execution_count": 54,
   "id": "1fbf5912",
   "metadata": {},
   "outputs": [
    {
     "data": {
      "text/plain": [
       "Date                      0\n",
       "Zone1Position             0\n",
       "Zone2Position             0\n",
       "Zone3Position             0\n",
       "SKU                       0\n",
       "Zone1_Row_Num             0\n",
       "Zone1_Col_Num             0\n",
       "Zone2_Row_Num             0\n",
       "Zone2_Col_Num             0\n",
       "Zone3_Row_Num             0\n",
       "Zone3_Col_Num             0\n",
       "Zone1_Left_Block_Bin      0\n",
       "Zone1_Right_Block_Bin     0\n",
       "Zone1_Area                0\n",
       "Zone3_Area                0\n",
       "Zone1_Dur                 0\n",
       "Zone2_Dur                 0\n",
       "Zone3_Dur                 0\n",
       "Zone1_Out_Zone2_In_Dur    0\n",
       "Zone1_Out_Zone3_In_Dur    0\n",
       "Zone2_Out_Zone3_In_Dur    0\n",
       "Zone1_In_Zone3_Out_Dur    0\n",
       "Zone1_In_Zone2_Out_Dur    0\n",
       "Zone2_In_Zone3_Out_Dur    0\n",
       "Zone1_Temp_Avg            0\n",
       "Zone1_Temp_Min            0\n",
       "Zone1_Temp_Max            0\n",
       "Zone1_Temp_Range          0\n",
       "Zone2_Temp_Avg            0\n",
       "Zone2_Temp_Min            0\n",
       "Zone2_Temp_Max            0\n",
       "Zone2_Temp_Range          0\n",
       "Zone3_Temp_Avg            0\n",
       "Zone3_Temp_Min            0\n",
       "Zone3_Temp_Max            0\n",
       "Zone3_Temp_Range          0\n",
       "Zone1_Humidity_Avg        0\n",
       "Zone1_Humidity_Min        0\n",
       "Zone1_Humidity_Max        0\n",
       "Zone1_Humidity_Range      0\n",
       "Zone2_Humidity_Avg        0\n",
       "Zone2_Humidity_Min        0\n",
       "Zone2_Humidity_Max        0\n",
       "Zone2_Humidity_Range      0\n",
       "Zone3_Humidity_Avg        0\n",
       "Zone3_Humidity_Min        0\n",
       "Zone3_Humidity_Max        0\n",
       "Zone3_Humidity_Range      0\n",
       "Block_Num                 0\n",
       "Block_Position            0\n",
       "Block_Orientation         0\n",
       "Result_Type               0\n",
       "dtype: int64"
      ]
     },
     "execution_count": 54,
     "metadata": {},
     "output_type": "execute_result"
    }
   ],
   "source": [
    "cleaned.isnull().sum()"
   ]
  },
  {
   "cell_type": "markdown",
   "id": "204da73f",
   "metadata": {},
   "source": [
    "#### E. Creating profile report to explore the data"
   ]
  },
  {
   "cell_type": "code",
   "execution_count": 58,
   "id": "46779de7",
   "metadata": {},
   "outputs": [
    {
     "data": {
      "application/vnd.jupyter.widget-view+json": {
       "model_id": "14168228d4324c769c448a3202dedb51",
       "version_major": 2,
       "version_minor": 0
      },
      "text/plain": [
       "Summarize dataset:   0%|          | 0/5 [00:00<?, ?it/s]"
      ]
     },
     "metadata": {},
     "output_type": "display_data"
    },
    {
     "data": {
      "application/vnd.jupyter.widget-view+json": {
       "model_id": "c90c4a4b8b9a43ba98b8cb68cd40ce25",
       "version_major": 2,
       "version_minor": 0
      },
      "text/plain": [
       "Generate report structure:   0%|          | 0/1 [00:00<?, ?it/s]"
      ]
     },
     "metadata": {},
     "output_type": "display_data"
    },
    {
     "data": {
      "application/vnd.jupyter.widget-view+json": {
       "model_id": "1cfb1698ec9d4fe59d0adc0af683eb30",
       "version_major": 2,
       "version_minor": 0
      },
      "text/plain": [
       "Render HTML:   0%|          | 0/1 [00:00<?, ?it/s]"
      ]
     },
     "metadata": {},
     "output_type": "display_data"
    },
    {
     "data": {
      "application/vnd.jupyter.widget-view+json": {
       "model_id": "0f00af4ef83145949cbba16b912b6dfa",
       "version_major": 2,
       "version_minor": 0
      },
      "text/plain": [
       "Export report to file:   0%|          | 0/1 [00:00<?, ?it/s]"
      ]
     },
     "metadata": {},
     "output_type": "display_data"
    }
   ],
   "source": [
    "cleaned_copy = cleaned.copy()\n",
    "prof = ProfileReport(cleaned_copy)\n",
    "prof.to_file(output_file='data_profilereport.html')"
   ]
  },
  {
   "cell_type": "code",
   "execution_count": 57,
   "id": "e9201775",
   "metadata": {
    "scrolled": true
   },
   "outputs": [
    {
     "data": {
      "text/plain": [
       "Date                       object\n",
       "Zone1Position             float64\n",
       "Zone2Position             float64\n",
       "Zone3Position             float64\n",
       "SKU                        object\n",
       "Zone1_Row_Num             float64\n",
       "Zone1_Col_Num             float64\n",
       "Zone2_Row_Num             float64\n",
       "Zone2_Col_Num             float64\n",
       "Zone3_Row_Num             float64\n",
       "Zone3_Col_Num             float64\n",
       "Zone1_Left_Block_Bin      float64\n",
       "Zone1_Right_Block_Bin     float64\n",
       "Zone1_Area                 object\n",
       "Zone3_Area                 object\n",
       "Zone1_Dur                 float64\n",
       "Zone2_Dur                 float64\n",
       "Zone3_Dur                 float64\n",
       "Zone1_Out_Zone2_In_Dur    float64\n",
       "Zone1_Out_Zone3_In_Dur    float64\n",
       "Zone2_Out_Zone3_In_Dur    float64\n",
       "Zone1_In_Zone3_Out_Dur    float64\n",
       "Zone1_In_Zone2_Out_Dur    float64\n",
       "Zone2_In_Zone3_Out_Dur    float64\n",
       "Zone1_Temp_Avg            float64\n",
       "Zone1_Temp_Min            float64\n",
       "Zone1_Temp_Max            float64\n",
       "Zone1_Temp_Range          float64\n",
       "Zone2_Temp_Avg            float64\n",
       "Zone2_Temp_Min            float64\n",
       "Zone2_Temp_Max            float64\n",
       "Zone2_Temp_Range          float64\n",
       "Zone3_Temp_Avg            float64\n",
       "Zone3_Temp_Min            float64\n",
       "Zone3_Temp_Max            float64\n",
       "Zone3_Temp_Range          float64\n",
       "Zone1_Humidity_Avg        float64\n",
       "Zone1_Humidity_Min        float64\n",
       "Zone1_Humidity_Max        float64\n",
       "Zone1_Humidity_Range      float64\n",
       "Zone2_Humidity_Avg        float64\n",
       "Zone2_Humidity_Min        float64\n",
       "Zone2_Humidity_Max        float64\n",
       "Zone2_Humidity_Range      float64\n",
       "Zone3_Humidity_Avg        float64\n",
       "Zone3_Humidity_Min        float64\n",
       "Zone3_Humidity_Max        float64\n",
       "Zone3_Humidity_Range      float64\n",
       "Block_Num                 float64\n",
       "Block_Position            float64\n",
       "Block_Orientation           int64\n",
       "Result_Type                object\n",
       "dtype: object"
      ]
     },
     "execution_count": 57,
     "metadata": {},
     "output_type": "execute_result"
    }
   ],
   "source": [
    "cleaned.dtypes"
   ]
  },
  {
   "cell_type": "code",
   "execution_count": 60,
   "id": "a4a3610d",
   "metadata": {},
   "outputs": [],
   "source": [
    "cleaned_copy[['Zone1_Dur','Zone2_Dur','Zone3_Dur','Zone1_Out_Zone2_In_Dur',\n",
    "         'Zone1_Out_Zone3_In_Dur','Zone2_Out_Zone3_In_Dur',\n",
    "         'Zone1_In_Zone3_Out_Dur','Zone1_In_Zone2_Out_Dur',\n",
    "         'Zone2_In_Zone3_Out_Dur','Zone1_Temp_Avg','Zone2_Temp_Avg',\n",
    "        'Zone3_Temp_Avg','Zone1_Humidity_Avg','Zone2_Humidity_Avg',\n",
    "         'Zone3_Humidity_Avg']]= cleaned[['Zone1_Dur','Zone2_Dur','Zone3_Dur','Zone1_Out_Zone2_In_Dur','Zone1_Out_Zone3_In_Dur',\n",
    "                                          'Zone2_Out_Zone3_In_Dur','Zone1_In_Zone3_Out_Dur','Zone1_In_Zone2_Out_Dur',\n",
    "                                          'Zone2_In_Zone3_Out_Dur','Zone1_Temp_Avg','Zone2_Temp_Avg','Zone3_Temp_Avg',\n",
    "                                          'Zone1_Humidity_Avg','Zone2_Humidity_Avg','Zone3_Humidity_Avg']].astype(float)"
   ]
  },
  {
   "cell_type": "code",
   "execution_count": 61,
   "id": "cae8b732",
   "metadata": {},
   "outputs": [
    {
     "data": {
      "text/plain": [
       "Index(['Date', 'Zone1Position', 'Zone2Position', 'Zone3Position', 'SKU',\n",
       "       'Zone1_Row_Num', 'Zone1_Col_Num', 'Zone2_Row_Num', 'Zone2_Col_Num',\n",
       "       'Zone3_Row_Num', 'Zone3_Col_Num', 'Zone1_Left_Block_Bin',\n",
       "       'Zone1_Right_Block_Bin', 'Zone1_Area', 'Zone3_Area', 'Zone1_Dur',\n",
       "       'Zone2_Dur', 'Zone3_Dur', 'Zone1_Out_Zone2_In_Dur',\n",
       "       'Zone1_Out_Zone3_In_Dur', 'Zone2_Out_Zone3_In_Dur',\n",
       "       'Zone1_In_Zone3_Out_Dur', 'Zone1_In_Zone2_Out_Dur',\n",
       "       'Zone2_In_Zone3_Out_Dur', 'Zone1_Temp_Avg', 'Zone1_Temp_Min',\n",
       "       'Zone1_Temp_Max', 'Zone1_Temp_Range', 'Zone2_Temp_Avg',\n",
       "       'Zone2_Temp_Min', 'Zone2_Temp_Max', 'Zone2_Temp_Range',\n",
       "       'Zone3_Temp_Avg', 'Zone3_Temp_Min', 'Zone3_Temp_Max',\n",
       "       'Zone3_Temp_Range', 'Zone1_Humidity_Avg', 'Zone1_Humidity_Min',\n",
       "       'Zone1_Humidity_Max', 'Zone1_Humidity_Range', 'Zone2_Humidity_Avg',\n",
       "       'Zone2_Humidity_Min', 'Zone2_Humidity_Max', 'Zone2_Humidity_Range',\n",
       "       'Zone3_Humidity_Avg', 'Zone3_Humidity_Min', 'Zone3_Humidity_Max',\n",
       "       'Zone3_Humidity_Range', 'Block_Num', 'Block_Position',\n",
       "       'Block_Orientation', 'Result_Type'],\n",
       "      dtype='object')"
      ]
     },
     "execution_count": 61,
     "metadata": {},
     "output_type": "execute_result"
    }
   ],
   "source": [
    "cleaned_copy.columns"
   ]
  },
  {
   "cell_type": "code",
   "execution_count": 62,
   "id": "265eee34",
   "metadata": {},
   "outputs": [],
   "source": [
    "cleaned_copy.to_csv('cleaned_data.csv', index=False)"
   ]
  },
  {
   "cell_type": "code",
   "execution_count": null,
   "id": "5c9983f9",
   "metadata": {},
   "outputs": [],
   "source": []
  }
 ],
 "metadata": {
  "kernelspec": {
   "display_name": "Python 3 (ipykernel)",
   "language": "python",
   "name": "python3"
  },
  "language_info": {
   "codemirror_mode": {
    "name": "ipython",
    "version": 3
   },
   "file_extension": ".py",
   "mimetype": "text/x-python",
   "name": "python",
   "nbconvert_exporter": "python",
   "pygments_lexer": "ipython3",
   "version": "3.10.13"
  }
 },
 "nbformat": 4,
 "nbformat_minor": 5
}
